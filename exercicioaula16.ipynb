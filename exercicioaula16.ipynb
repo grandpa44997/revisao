{
  "nbformat": 4,
  "nbformat_minor": 0,
  "metadata": {
    "colab": {
      "provenance": [],
      "authorship_tag": "ABX9TyMpJJCkz4IThN3dT6fMUaEi",
      "include_colab_link": true
    },
    "kernelspec": {
      "name": "python3",
      "display_name": "Python 3"
    },
    "language_info": {
      "name": "python"
    }
  },
  "cells": [
    {
      "cell_type": "markdown",
      "metadata": {
        "id": "view-in-github",
        "colab_type": "text"
      },
      "source": [
        "<a href=\"https://colab.research.google.com/github/grandpa44997/revisao/blob/main/exercicioaula16.ipynb\" target=\"_parent\"><img src=\"https://colab.research.google.com/assets/colab-badge.svg\" alt=\"Open In Colab\"/></a>"
      ]
    },
    {
      "cell_type": "code",
      "execution_count": 6,
      "metadata": {
        "colab": {
          "base_uri": "https://localhost:8080/"
        },
        "id": "kzNBORQ_9cUF",
        "outputId": "32dd0730-392e-454d-8df8-0c96d0353eb9"
      },
      "outputs": [
        {
          "output_type": "stream",
          "name": "stdout",
          "text": [
            "Salário do funcionario CLT: R$300.00\n",
            "Salário do PJ: R$36000.00\n"
          ]
        }
      ],
      "source": [
        "class Funcionario:\n",
        "  def __init__(self, nome, salarioBase):\n",
        "    self.nome = nome\n",
        "    self.salarioBase = salarioBase\n",
        "\n",
        "  def calcularSalario(self):\n",
        "    pass\n",
        "\n",
        "class FuncionarioClt(Funcionario):\n",
        "  def __init__(self, nome, salarioBase, experiencia):\n",
        "    Funcionario.__init__(self, nome, salarioBase)\n",
        "    self.experiencia = experiencia\n",
        "\n",
        "  def calcularSalario(self):\n",
        "    return self.salarioBase * (self.experiencia / 100)\n",
        "\n",
        "\n",
        "class FuncionarioPj(Funcionario):\n",
        "  def __init__(self, nome, salarioBase, experiencia):\n",
        "    Funcionario.__init__(self, nome, salarioBase)\n",
        "    self.experiencia = experiencia\n",
        "  \n",
        "  def calcularSalario(self):\n",
        "    return self.salarioBase * self.experiencia\n",
        "\n",
        "#criar um objeto funcionario clt\n",
        "clt = FuncionarioClt('Daniel', 2500, 12)\n",
        "salarioClt = clt.calcularSalario()\n",
        "print(f'Salário do funcionario CLT: R${salarioClt:.2f}')\n",
        "\n",
        "# obj pj\n",
        "pj = FuncionarioPj('daniel', 3000, 12)\n",
        "salarioPj = pj.calcularSalario()\n",
        "print(f'Salário do PJ: R${salarioPj:.2f}')"
      ]
    }
  ]
}